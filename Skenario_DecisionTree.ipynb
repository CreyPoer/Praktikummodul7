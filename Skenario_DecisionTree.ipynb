{
  "nbformat": 4,
  "nbformat_minor": 0,
  "metadata": {
    "colab": {
      "provenance": [],
      "authorship_tag": "ABX9TyPAkY1iKma4bzRy4Ow0z0F+",
      "include_colab_link": true
    },
    "kernelspec": {
      "name": "python3",
      "display_name": "Python 3"
    },
    "language_info": {
      "name": "python"
    }
  },
  "cells": [
    {
      "cell_type": "markdown",
      "metadata": {
        "id": "view-in-github",
        "colab_type": "text"
      },
      "source": [
        "<a href=\"https://colab.research.google.com/github/CreyPoer/Praktikummodul7/blob/main/Skenario_DecisionTree.ipynb\" target=\"_parent\"><img src=\"https://colab.research.google.com/assets/colab-badge.svg\" alt=\"Open In Colab\"/></a>"
      ]
    },
    {
      "cell_type": "code",
      "execution_count": null,
      "metadata": {
        "colab": {
          "base_uri": "https://localhost:8080/"
        },
        "id": "gTTmSaNjtQEf",
        "outputId": "d9fc9ee2-95be-4a59-9f45-887653b1765a"
      },
      "outputs": [
        {
          "output_type": "stream",
          "name": "stdout",
          "text": [
            "Drive already mounted at /content/drive; to attempt to forcibly remount, call drive.mount(\"/content/drive\", force_remount=True).\n"
          ]
        }
      ],
      "source": [
        "from google.colab import drive\n",
        "drive.mount(\"/content/drive\")"
      ]
    },
    {
      "cell_type": "code",
      "source": [
        "import numpy as np\n",
        "import scipy.stats\n",
        "import seaborn as sns\n",
        "import pandas as pd\n",
        "from sklearn.preprocessing import MinMaxScaler\n",
        "from sklearn.preprocessing import StandardScaler\n",
        "from sklearn.model_selection import GridSearchCV\n",
        "import joblib\n",
        "from sklearn.model_selection import train_test_split\n",
        "import pickle"
      ],
      "metadata": {
        "id": "A5QX_J5RtRvT"
      },
      "execution_count": null,
      "outputs": []
    },
    {
      "cell_type": "code",
      "source": [
        "from sklearn.metrics import accuracy_score, precision_recall_fscore_support, precision_score, recall_score, f1_score\n",
        "from sklearn.metrics import confusion_matrix, classification_report\n",
        "from sklearn.model_selection import cross_validate\n",
        "from sklearn.ensemble import RandomForestClassifier\n",
        "from sklearn.linear_model import LogisticRegression\n",
        "from sklearn.svm import SVC\n",
        "from numpy.core.arrayprint import printoptions\n",
        "from sklearn.tree import DecisionTreeClassifier\n",
        "from sklearn.metrics import accuracy_score, classification_report, confusion_matrix\n",
        "from sklearn.feature_selection import SelectKBest\n",
        "from sklearn.feature_selection import mutual_info_classif\n",
        "import matplotlib.pyplot as plt"
      ],
      "metadata": {
        "id": "QI1JjW76tXFs"
      },
      "execution_count": null,
      "outputs": []
    },
    {
      "cell_type": "code",
      "source": [
        "data = pd.read_csv('/content/drive/MyDrive/Proyek Sains Data/Tugas PASCA_UTS/winequality-red.csv')"
      ],
      "metadata": {
        "id": "G0SVwq8StZ9Z"
      },
      "execution_count": null,
      "outputs": []
    },
    {
      "cell_type": "code",
      "source": [
        "data"
      ],
      "metadata": {
        "colab": {
          "base_uri": "https://localhost:8080/",
          "height": 458
        },
        "id": "oZl2S9i1tajp",
        "outputId": "081a84ca-4702-47e0-d8e1-eca57e8dcca8"
      },
      "execution_count": null,
      "outputs": [
        {
          "output_type": "execute_result",
          "data": {
            "text/plain": [
              "      fixed acidity  volatile acidity  citric acid  residual sugar  chlorides  \\\n",
              "0               7.4             0.700         0.00             1.9      0.076   \n",
              "1               7.8             0.880         0.00             2.6      0.098   \n",
              "2               7.8             0.760         0.04             2.3      0.092   \n",
              "3              11.2             0.280         0.56             1.9      0.075   \n",
              "4               7.4             0.700         0.00             1.9      0.076   \n",
              "...             ...               ...          ...             ...        ...   \n",
              "1594            6.2             0.600         0.08             2.0      0.090   \n",
              "1595            5.9             0.550         0.10             2.2      0.062   \n",
              "1596            6.3             0.510         0.13             2.3      0.076   \n",
              "1597            5.9             0.645         0.12             2.0      0.075   \n",
              "1598            6.0             0.310         0.47             3.6      0.067   \n",
              "\n",
              "      free sulfur dioxide  total sulfur dioxide  density    pH  sulphates  \\\n",
              "0                    11.0                  34.0  0.99780  3.51       0.56   \n",
              "1                    25.0                  67.0  0.99680  3.20       0.68   \n",
              "2                    15.0                  54.0  0.99700  3.26       0.65   \n",
              "3                    17.0                  60.0  0.99800  3.16       0.58   \n",
              "4                    11.0                  34.0  0.99780  3.51       0.56   \n",
              "...                   ...                   ...      ...   ...        ...   \n",
              "1594                 32.0                  44.0  0.99490  3.45       0.58   \n",
              "1595                 39.0                  51.0  0.99512  3.52       0.76   \n",
              "1596                 29.0                  40.0  0.99574  3.42       0.75   \n",
              "1597                 32.0                  44.0  0.99547  3.57       0.71   \n",
              "1598                 18.0                  42.0  0.99549  3.39       0.66   \n",
              "\n",
              "      alcohol  quality  \n",
              "0         9.4        5  \n",
              "1         9.8        5  \n",
              "2         9.8        5  \n",
              "3         9.8        6  \n",
              "4         9.4        5  \n",
              "...       ...      ...  \n",
              "1594     10.5        5  \n",
              "1595     11.2        6  \n",
              "1596     11.0        6  \n",
              "1597     10.2        5  \n",
              "1598     11.0        6  \n",
              "\n",
              "[1599 rows x 12 columns]"
            ],
            "text/html": [
              "\n",
              "  <div id=\"df-6312187d-7ff4-423a-9e30-2746742dcd4b\" class=\"colab-df-container\">\n",
              "    <div>\n",
              "<style scoped>\n",
              "    .dataframe tbody tr th:only-of-type {\n",
              "        vertical-align: middle;\n",
              "    }\n",
              "\n",
              "    .dataframe tbody tr th {\n",
              "        vertical-align: top;\n",
              "    }\n",
              "\n",
              "    .dataframe thead th {\n",
              "        text-align: right;\n",
              "    }\n",
              "</style>\n",
              "<table border=\"1\" class=\"dataframe\">\n",
              "  <thead>\n",
              "    <tr style=\"text-align: right;\">\n",
              "      <th></th>\n",
              "      <th>fixed acidity</th>\n",
              "      <th>volatile acidity</th>\n",
              "      <th>citric acid</th>\n",
              "      <th>residual sugar</th>\n",
              "      <th>chlorides</th>\n",
              "      <th>free sulfur dioxide</th>\n",
              "      <th>total sulfur dioxide</th>\n",
              "      <th>density</th>\n",
              "      <th>pH</th>\n",
              "      <th>sulphates</th>\n",
              "      <th>alcohol</th>\n",
              "      <th>quality</th>\n",
              "    </tr>\n",
              "  </thead>\n",
              "  <tbody>\n",
              "    <tr>\n",
              "      <th>0</th>\n",
              "      <td>7.4</td>\n",
              "      <td>0.700</td>\n",
              "      <td>0.00</td>\n",
              "      <td>1.9</td>\n",
              "      <td>0.076</td>\n",
              "      <td>11.0</td>\n",
              "      <td>34.0</td>\n",
              "      <td>0.99780</td>\n",
              "      <td>3.51</td>\n",
              "      <td>0.56</td>\n",
              "      <td>9.4</td>\n",
              "      <td>5</td>\n",
              "    </tr>\n",
              "    <tr>\n",
              "      <th>1</th>\n",
              "      <td>7.8</td>\n",
              "      <td>0.880</td>\n",
              "      <td>0.00</td>\n",
              "      <td>2.6</td>\n",
              "      <td>0.098</td>\n",
              "      <td>25.0</td>\n",
              "      <td>67.0</td>\n",
              "      <td>0.99680</td>\n",
              "      <td>3.20</td>\n",
              "      <td>0.68</td>\n",
              "      <td>9.8</td>\n",
              "      <td>5</td>\n",
              "    </tr>\n",
              "    <tr>\n",
              "      <th>2</th>\n",
              "      <td>7.8</td>\n",
              "      <td>0.760</td>\n",
              "      <td>0.04</td>\n",
              "      <td>2.3</td>\n",
              "      <td>0.092</td>\n",
              "      <td>15.0</td>\n",
              "      <td>54.0</td>\n",
              "      <td>0.99700</td>\n",
              "      <td>3.26</td>\n",
              "      <td>0.65</td>\n",
              "      <td>9.8</td>\n",
              "      <td>5</td>\n",
              "    </tr>\n",
              "    <tr>\n",
              "      <th>3</th>\n",
              "      <td>11.2</td>\n",
              "      <td>0.280</td>\n",
              "      <td>0.56</td>\n",
              "      <td>1.9</td>\n",
              "      <td>0.075</td>\n",
              "      <td>17.0</td>\n",
              "      <td>60.0</td>\n",
              "      <td>0.99800</td>\n",
              "      <td>3.16</td>\n",
              "      <td>0.58</td>\n",
              "      <td>9.8</td>\n",
              "      <td>6</td>\n",
              "    </tr>\n",
              "    <tr>\n",
              "      <th>4</th>\n",
              "      <td>7.4</td>\n",
              "      <td>0.700</td>\n",
              "      <td>0.00</td>\n",
              "      <td>1.9</td>\n",
              "      <td>0.076</td>\n",
              "      <td>11.0</td>\n",
              "      <td>34.0</td>\n",
              "      <td>0.99780</td>\n",
              "      <td>3.51</td>\n",
              "      <td>0.56</td>\n",
              "      <td>9.4</td>\n",
              "      <td>5</td>\n",
              "    </tr>\n",
              "    <tr>\n",
              "      <th>...</th>\n",
              "      <td>...</td>\n",
              "      <td>...</td>\n",
              "      <td>...</td>\n",
              "      <td>...</td>\n",
              "      <td>...</td>\n",
              "      <td>...</td>\n",
              "      <td>...</td>\n",
              "      <td>...</td>\n",
              "      <td>...</td>\n",
              "      <td>...</td>\n",
              "      <td>...</td>\n",
              "      <td>...</td>\n",
              "    </tr>\n",
              "    <tr>\n",
              "      <th>1594</th>\n",
              "      <td>6.2</td>\n",
              "      <td>0.600</td>\n",
              "      <td>0.08</td>\n",
              "      <td>2.0</td>\n",
              "      <td>0.090</td>\n",
              "      <td>32.0</td>\n",
              "      <td>44.0</td>\n",
              "      <td>0.99490</td>\n",
              "      <td>3.45</td>\n",
              "      <td>0.58</td>\n",
              "      <td>10.5</td>\n",
              "      <td>5</td>\n",
              "    </tr>\n",
              "    <tr>\n",
              "      <th>1595</th>\n",
              "      <td>5.9</td>\n",
              "      <td>0.550</td>\n",
              "      <td>0.10</td>\n",
              "      <td>2.2</td>\n",
              "      <td>0.062</td>\n",
              "      <td>39.0</td>\n",
              "      <td>51.0</td>\n",
              "      <td>0.99512</td>\n",
              "      <td>3.52</td>\n",
              "      <td>0.76</td>\n",
              "      <td>11.2</td>\n",
              "      <td>6</td>\n",
              "    </tr>\n",
              "    <tr>\n",
              "      <th>1596</th>\n",
              "      <td>6.3</td>\n",
              "      <td>0.510</td>\n",
              "      <td>0.13</td>\n",
              "      <td>2.3</td>\n",
              "      <td>0.076</td>\n",
              "      <td>29.0</td>\n",
              "      <td>40.0</td>\n",
              "      <td>0.99574</td>\n",
              "      <td>3.42</td>\n",
              "      <td>0.75</td>\n",
              "      <td>11.0</td>\n",
              "      <td>6</td>\n",
              "    </tr>\n",
              "    <tr>\n",
              "      <th>1597</th>\n",
              "      <td>5.9</td>\n",
              "      <td>0.645</td>\n",
              "      <td>0.12</td>\n",
              "      <td>2.0</td>\n",
              "      <td>0.075</td>\n",
              "      <td>32.0</td>\n",
              "      <td>44.0</td>\n",
              "      <td>0.99547</td>\n",
              "      <td>3.57</td>\n",
              "      <td>0.71</td>\n",
              "      <td>10.2</td>\n",
              "      <td>5</td>\n",
              "    </tr>\n",
              "    <tr>\n",
              "      <th>1598</th>\n",
              "      <td>6.0</td>\n",
              "      <td>0.310</td>\n",
              "      <td>0.47</td>\n",
              "      <td>3.6</td>\n",
              "      <td>0.067</td>\n",
              "      <td>18.0</td>\n",
              "      <td>42.0</td>\n",
              "      <td>0.99549</td>\n",
              "      <td>3.39</td>\n",
              "      <td>0.66</td>\n",
              "      <td>11.0</td>\n",
              "      <td>6</td>\n",
              "    </tr>\n",
              "  </tbody>\n",
              "</table>\n",
              "<p>1599 rows × 12 columns</p>\n",
              "</div>\n",
              "    <div class=\"colab-df-buttons\">\n",
              "\n",
              "  <div class=\"colab-df-container\">\n",
              "    <button class=\"colab-df-convert\" onclick=\"convertToInteractive('df-6312187d-7ff4-423a-9e30-2746742dcd4b')\"\n",
              "            title=\"Convert this dataframe to an interactive table.\"\n",
              "            style=\"display:none;\">\n",
              "\n",
              "  <svg xmlns=\"http://www.w3.org/2000/svg\" height=\"24px\" viewBox=\"0 -960 960 960\">\n",
              "    <path d=\"M120-120v-720h720v720H120Zm60-500h600v-160H180v160Zm220 220h160v-160H400v160Zm0 220h160v-160H400v160ZM180-400h160v-160H180v160Zm440 0h160v-160H620v160ZM180-180h160v-160H180v160Zm440 0h160v-160H620v160Z\"/>\n",
              "  </svg>\n",
              "    </button>\n",
              "\n",
              "  <style>\n",
              "    .colab-df-container {\n",
              "      display:flex;\n",
              "      gap: 12px;\n",
              "    }\n",
              "\n",
              "    .colab-df-convert {\n",
              "      background-color: #E8F0FE;\n",
              "      border: none;\n",
              "      border-radius: 50%;\n",
              "      cursor: pointer;\n",
              "      display: none;\n",
              "      fill: #1967D2;\n",
              "      height: 32px;\n",
              "      padding: 0 0 0 0;\n",
              "      width: 32px;\n",
              "    }\n",
              "\n",
              "    .colab-df-convert:hover {\n",
              "      background-color: #E2EBFA;\n",
              "      box-shadow: 0px 1px 2px rgba(60, 64, 67, 0.3), 0px 1px 3px 1px rgba(60, 64, 67, 0.15);\n",
              "      fill: #174EA6;\n",
              "    }\n",
              "\n",
              "    .colab-df-buttons div {\n",
              "      margin-bottom: 4px;\n",
              "    }\n",
              "\n",
              "    [theme=dark] .colab-df-convert {\n",
              "      background-color: #3B4455;\n",
              "      fill: #D2E3FC;\n",
              "    }\n",
              "\n",
              "    [theme=dark] .colab-df-convert:hover {\n",
              "      background-color: #434B5C;\n",
              "      box-shadow: 0px 1px 3px 1px rgba(0, 0, 0, 0.15);\n",
              "      filter: drop-shadow(0px 1px 2px rgba(0, 0, 0, 0.3));\n",
              "      fill: #FFFFFF;\n",
              "    }\n",
              "  </style>\n",
              "\n",
              "    <script>\n",
              "      const buttonEl =\n",
              "        document.querySelector('#df-6312187d-7ff4-423a-9e30-2746742dcd4b button.colab-df-convert');\n",
              "      buttonEl.style.display =\n",
              "        google.colab.kernel.accessAllowed ? 'block' : 'none';\n",
              "\n",
              "      async function convertToInteractive(key) {\n",
              "        const element = document.querySelector('#df-6312187d-7ff4-423a-9e30-2746742dcd4b');\n",
              "        const dataTable =\n",
              "          await google.colab.kernel.invokeFunction('convertToInteractive',\n",
              "                                                    [key], {});\n",
              "        if (!dataTable) return;\n",
              "\n",
              "        const docLinkHtml = 'Like what you see? Visit the ' +\n",
              "          '<a target=\"_blank\" href=https://colab.research.google.com/notebooks/data_table.ipynb>data table notebook</a>'\n",
              "          + ' to learn more about interactive tables.';\n",
              "        element.innerHTML = '';\n",
              "        dataTable['output_type'] = 'display_data';\n",
              "        await google.colab.output.renderOutput(dataTable, element);\n",
              "        const docLink = document.createElement('div');\n",
              "        docLink.innerHTML = docLinkHtml;\n",
              "        element.appendChild(docLink);\n",
              "      }\n",
              "    </script>\n",
              "  </div>\n",
              "\n",
              "\n",
              "<div id=\"df-69aaabea-dd43-4852-84eb-27cb98336d8f\">\n",
              "  <button class=\"colab-df-quickchart\" onclick=\"quickchart('df-69aaabea-dd43-4852-84eb-27cb98336d8f')\"\n",
              "            title=\"Suggest charts\"\n",
              "            style=\"display:none;\">\n",
              "\n",
              "<svg xmlns=\"http://www.w3.org/2000/svg\" height=\"24px\"viewBox=\"0 0 24 24\"\n",
              "     width=\"24px\">\n",
              "    <g>\n",
              "        <path d=\"M19 3H5c-1.1 0-2 .9-2 2v14c0 1.1.9 2 2 2h14c1.1 0 2-.9 2-2V5c0-1.1-.9-2-2-2zM9 17H7v-7h2v7zm4 0h-2V7h2v10zm4 0h-2v-4h2v4z\"/>\n",
              "    </g>\n",
              "</svg>\n",
              "  </button>\n",
              "\n",
              "<style>\n",
              "  .colab-df-quickchart {\n",
              "      --bg-color: #E8F0FE;\n",
              "      --fill-color: #1967D2;\n",
              "      --hover-bg-color: #E2EBFA;\n",
              "      --hover-fill-color: #174EA6;\n",
              "      --disabled-fill-color: #AAA;\n",
              "      --disabled-bg-color: #DDD;\n",
              "  }\n",
              "\n",
              "  [theme=dark] .colab-df-quickchart {\n",
              "      --bg-color: #3B4455;\n",
              "      --fill-color: #D2E3FC;\n",
              "      --hover-bg-color: #434B5C;\n",
              "      --hover-fill-color: #FFFFFF;\n",
              "      --disabled-bg-color: #3B4455;\n",
              "      --disabled-fill-color: #666;\n",
              "  }\n",
              "\n",
              "  .colab-df-quickchart {\n",
              "    background-color: var(--bg-color);\n",
              "    border: none;\n",
              "    border-radius: 50%;\n",
              "    cursor: pointer;\n",
              "    display: none;\n",
              "    fill: var(--fill-color);\n",
              "    height: 32px;\n",
              "    padding: 0;\n",
              "    width: 32px;\n",
              "  }\n",
              "\n",
              "  .colab-df-quickchart:hover {\n",
              "    background-color: var(--hover-bg-color);\n",
              "    box-shadow: 0 1px 2px rgba(60, 64, 67, 0.3), 0 1px 3px 1px rgba(60, 64, 67, 0.15);\n",
              "    fill: var(--button-hover-fill-color);\n",
              "  }\n",
              "\n",
              "  .colab-df-quickchart-complete:disabled,\n",
              "  .colab-df-quickchart-complete:disabled:hover {\n",
              "    background-color: var(--disabled-bg-color);\n",
              "    fill: var(--disabled-fill-color);\n",
              "    box-shadow: none;\n",
              "  }\n",
              "\n",
              "  .colab-df-spinner {\n",
              "    border: 2px solid var(--fill-color);\n",
              "    border-color: transparent;\n",
              "    border-bottom-color: var(--fill-color);\n",
              "    animation:\n",
              "      spin 1s steps(1) infinite;\n",
              "  }\n",
              "\n",
              "  @keyframes spin {\n",
              "    0% {\n",
              "      border-color: transparent;\n",
              "      border-bottom-color: var(--fill-color);\n",
              "      border-left-color: var(--fill-color);\n",
              "    }\n",
              "    20% {\n",
              "      border-color: transparent;\n",
              "      border-left-color: var(--fill-color);\n",
              "      border-top-color: var(--fill-color);\n",
              "    }\n",
              "    30% {\n",
              "      border-color: transparent;\n",
              "      border-left-color: var(--fill-color);\n",
              "      border-top-color: var(--fill-color);\n",
              "      border-right-color: var(--fill-color);\n",
              "    }\n",
              "    40% {\n",
              "      border-color: transparent;\n",
              "      border-right-color: var(--fill-color);\n",
              "      border-top-color: var(--fill-color);\n",
              "    }\n",
              "    60% {\n",
              "      border-color: transparent;\n",
              "      border-right-color: var(--fill-color);\n",
              "    }\n",
              "    80% {\n",
              "      border-color: transparent;\n",
              "      border-right-color: var(--fill-color);\n",
              "      border-bottom-color: var(--fill-color);\n",
              "    }\n",
              "    90% {\n",
              "      border-color: transparent;\n",
              "      border-bottom-color: var(--fill-color);\n",
              "    }\n",
              "  }\n",
              "</style>\n",
              "\n",
              "  <script>\n",
              "    async function quickchart(key) {\n",
              "      const quickchartButtonEl =\n",
              "        document.querySelector('#' + key + ' button');\n",
              "      quickchartButtonEl.disabled = true;  // To prevent multiple clicks.\n",
              "      quickchartButtonEl.classList.add('colab-df-spinner');\n",
              "      try {\n",
              "        const charts = await google.colab.kernel.invokeFunction(\n",
              "            'suggestCharts', [key], {});\n",
              "      } catch (error) {\n",
              "        console.error('Error during call to suggestCharts:', error);\n",
              "      }\n",
              "      quickchartButtonEl.classList.remove('colab-df-spinner');\n",
              "      quickchartButtonEl.classList.add('colab-df-quickchart-complete');\n",
              "    }\n",
              "    (() => {\n",
              "      let quickchartButtonEl =\n",
              "        document.querySelector('#df-69aaabea-dd43-4852-84eb-27cb98336d8f button');\n",
              "      quickchartButtonEl.style.display =\n",
              "        google.colab.kernel.accessAllowed ? 'block' : 'none';\n",
              "    })();\n",
              "  </script>\n",
              "</div>\n",
              "    </div>\n",
              "  </div>\n"
            ]
          },
          "metadata": {},
          "execution_count": 508
        }
      ]
    },
    {
      "cell_type": "code",
      "source": [
        "jumlah_duplikat = data.duplicated().sum()\n",
        "\n",
        "# Menampilkan jumlah data yang duplikat\n",
        "print(\"Jumlah data yang duplikat:\", jumlah_duplikat)"
      ],
      "metadata": {
        "colab": {
          "base_uri": "https://localhost:8080/"
        },
        "id": "XlaxmBs8tood",
        "outputId": "c4db6e1f-18e6-4cd3-fde6-1c5fc7004707"
      },
      "execution_count": null,
      "outputs": [
        {
          "output_type": "stream",
          "name": "stdout",
          "text": [
            "Jumlah data yang duplikat: 240\n"
          ]
        }
      ]
    },
    {
      "cell_type": "code",
      "source": [
        "# Menghapus data yang duplikat\n",
        "data = data.drop_duplicates()\n",
        "\n",
        "print(\"Banyaknya sisa data : \", data.shape[0])"
      ],
      "metadata": {
        "colab": {
          "base_uri": "https://localhost:8080/"
        },
        "id": "V-k6d2kRtmLJ",
        "outputId": "e9683b20-3744-4dd0-82f9-829548fcc186"
      },
      "execution_count": null,
      "outputs": [
        {
          "output_type": "stream",
          "name": "stdout",
          "text": [
            "Banyaknya sisa data :  1359\n"
          ]
        }
      ]
    },
    {
      "cell_type": "code",
      "source": [
        "from sklearn.neighbors import LocalOutlierFactor\n",
        "\n",
        "# Membuat model LOF\n",
        "clf = LocalOutlierFactor(n_neighbors=20)  # Jumlah tetangga yang digunakan\n",
        "outlier_scores = clf.fit_predict(data)\n",
        "\n",
        "# Menampilkan indeks outlier\n",
        "outlier_indices = np.where(outlier_scores == -1)[0]\n",
        "print(\"Indeks outlier:\",outlier_indices)\n",
        "print(\"Indeks outlier:\",len( outlier_indices))"
      ],
      "metadata": {
        "colab": {
          "base_uri": "https://localhost:8080/"
        },
        "id": "lxh8UEwntc8z",
        "outputId": "8764aa9a-10d5-49eb-9043-ec857875b1b8"
      },
      "execution_count": null,
      "outputs": [
        {
          "output_type": "stream",
          "name": "stdout",
          "text": [
            "Indeks outlier: [ 282  328  346  385  387  420  462  467  486  565  668  669  781  838\n",
            "  888  918  920  963 1013 1052 1060 1216 1253 1325 1336]\n",
            "Indeks outlier: 25\n"
          ]
        }
      ]
    },
    {
      "cell_type": "code",
      "source": [
        "list_from_outlier_indices = outlier_indices.tolist()\n",
        "data_cleaned = data[outlier_scores != -1]  # Mengambil baris yang bukan outlier\n",
        "\n",
        "print(\"Data sebelum penghapusan outlier:\",len(data))\n",
        "print(\"Data setelah penghapusan outlier:\", len(data_cleaned))\n"
      ],
      "metadata": {
        "colab": {
          "base_uri": "https://localhost:8080/"
        },
        "id": "O1L0wzcQtgGo",
        "outputId": "be18e556-6788-431c-8cf4-4a493ab17494"
      },
      "execution_count": null,
      "outputs": [
        {
          "output_type": "stream",
          "name": "stdout",
          "text": [
            "Data sebelum penghapusan outlier: 1359\n",
            "Data setelah penghapusan outlier: 1334\n"
          ]
        }
      ]
    },
    {
      "cell_type": "code",
      "source": [
        "fitur = data_cleaned.drop('quality', axis= 1)\n",
        "target = data_cleaned['quality'].apply(lambda y_value: 1 if y_value >= 7 else 0)"
      ],
      "metadata": {
        "id": "etIaMLROtryR"
      },
      "execution_count": null,
      "outputs": []
    },
    {
      "cell_type": "code",
      "source": [
        "target.value_counts()"
      ],
      "metadata": {
        "colab": {
          "base_uri": "https://localhost:8080/"
        },
        "id": "KIUrAhhittSc",
        "outputId": "096cf167-f65a-460f-de9f-d8cd466c9017"
      },
      "execution_count": null,
      "outputs": [
        {
          "output_type": "execute_result",
          "data": {
            "text/plain": [
              "0    1156\n",
              "1     178\n",
              "Name: quality, dtype: int64"
            ]
          },
          "metadata": {},
          "execution_count": 514
        }
      ]
    },
    {
      "cell_type": "markdown",
      "source": [
        "### UNDER SAMPLING"
      ],
      "metadata": {
        "id": "LHUT5tONtwEh"
      }
    },
    {
      "cell_type": "code",
      "source": [
        "# import pandas as pd\n",
        "# from sklearn.datasets import make_classification\n",
        "# from collections import Counter\n",
        "# from imblearn.under_sampling import RandomUnderSampler\n",
        "# import matplotlib.pyplot as plt\n",
        "\n",
        "\n",
        "# # Jumlah kelas sebelum under-sampling\n",
        "# print(\"Jumlah kelas sebelum under-sampling:\", Counter(target))\n",
        "\n",
        "\n",
        "# # Melakukan under-sampling\n",
        "# under_sampler = RandomUnderSampler(random_state=42)\n",
        "# fitur_balance, target_balance = under_sampler.fit_resample(fitur,target)\n",
        "\n"
      ],
      "metadata": {
        "id": "XerFY6ODtt7Z"
      },
      "execution_count": null,
      "outputs": []
    },
    {
      "cell_type": "code",
      "source": [
        "# # Plot original class distribution\n",
        "# plt.figure(figsize=(10, 5))\n",
        "# plt.subplot(1, 2, 1)\n",
        "# sns.countplot(data=pd.DataFrame({'quality': target}), x='quality')\n",
        "# plt.title('Original Class')\n",
        "\n",
        "# # Plot resampled class distribution after Random Over-Sampling\n",
        "# plt.subplot(1, 2, 2)\n",
        "# sns.countplot(data=pd.DataFrame({'quality': target_balance}), x='quality')\n",
        "# plt.title('Random Over-Sampling With imblearn')\n",
        "\n",
        "# plt.tight_layout()\n",
        "# plt.show()"
      ],
      "metadata": {
        "id": "kc5CVw8Ht2A9"
      },
      "execution_count": null,
      "outputs": []
    },
    {
      "cell_type": "markdown",
      "source": [
        "### SMOTE SAMPLING"
      ],
      "metadata": {
        "id": "f3-_UF7Gt7tD"
      }
    },
    {
      "cell_type": "code",
      "source": [
        "from imblearn.over_sampling import SMOTE\n",
        "from collections import Counter\n",
        "smote = SMOTE(random_state=42)\n",
        "\n",
        "# Terapkan SMOTE pada dataset\n",
        "fitur_balance, target_balance = smote.fit_resample(fitur, target)\n",
        "\n",
        "# Setelah SMOTE\n",
        "print('Distribusi kelas setelah SMOTE:', Counter(target_balance))"
      ],
      "metadata": {
        "colab": {
          "base_uri": "https://localhost:8080/"
        },
        "id": "uh96HSWgt5BV",
        "outputId": "d3522ffa-5a92-4cbc-e7a3-33234d7b3559"
      },
      "execution_count": null,
      "outputs": [
        {
          "output_type": "stream",
          "name": "stdout",
          "text": [
            "Distribusi kelas setelah SMOTE: Counter({0: 1156, 1: 1156})\n"
          ]
        }
      ]
    },
    {
      "cell_type": "markdown",
      "source": [
        "## RANDOM SAMPLING"
      ],
      "metadata": {
        "id": "Kcl2KQxxuDs9"
      }
    },
    {
      "cell_type": "code",
      "source": [
        "# # import library\n",
        "# from imblearn.over_sampling import RandomOverSampler\n",
        "# from collections import Counter\n",
        "\n",
        "# # Initialize RandomOverSampler\n",
        "# balancer = RandomOverSampler(random_state=42)\n",
        "\n",
        "# # Apply Random Over-Sampling to balance the classes\n",
        "# fitur_balance, target_balance = balancer.fit_resample(fitur, target)\n",
        "\n",
        "# # Print resampled class distribution\n",
        "# print('Resampled class distribution:', Counter(target_balance))"
      ],
      "metadata": {
        "id": "5_nKmRNJuDRA"
      },
      "execution_count": null,
      "outputs": []
    },
    {
      "cell_type": "code",
      "source": [
        "# Plot original class distribution\n",
        "plt.figure(figsize=(10, 5))\n",
        "plt.subplot(1, 2, 1)\n",
        "sns.countplot(data=pd.DataFrame({'quality': target}), x='quality')\n",
        "plt.title('Original Class')\n",
        "\n",
        "# Plot resampled class distribution after Random Over-Sampling\n",
        "plt.subplot(1, 2, 2)\n",
        "sns.countplot(data=pd.DataFrame({'quality': target_balance}), x='quality')\n",
        "plt.title('Random Over-Sampling With imblearn')\n",
        "\n",
        "plt.tight_layout()\n",
        "plt.show()"
      ],
      "metadata": {
        "colab": {
          "base_uri": "https://localhost:8080/",
          "height": 483
        },
        "id": "HHEC_DYLuH8y",
        "outputId": "fd08ff52-3691-4055-d84b-bd2fbdbd0a8e"
      },
      "execution_count": null,
      "outputs": [
        {
          "output_type": "display_data",
          "data": {
            "text/plain": [
              "<Figure size 1000x500 with 2 Axes>"
            ],
            "image/png": "[encoded data removed]"
          },
          "metadata": {}
        }
      ]
    },
    {
      "cell_type": "code",
      "source": [
        "data_seimbang = pd.concat([fitur_balance, target_balance], axis=1)\n",
        "jumlah_duplikat = data_seimbang.duplicated().sum()\n",
        "\n",
        "# Menampilkan jumlah data yang duplikat\n",
        "print(\"Jumlah data yang duplikat:\", jumlah_duplikat)"
      ],
      "metadata": {
        "colab": {
          "base_uri": "https://localhost:8080/"
        },
        "id": "l4tMMGKFuKSv",
        "outputId": "169ddab1-1cb8-40e9-8020-f0bda9cc71a0"
      },
      "execution_count": null,
      "outputs": [
        {
          "output_type": "stream",
          "name": "stdout",
          "text": [
            "Jumlah data yang duplikat: 0\n"
          ]
        }
      ]
    },
    {
      "cell_type": "code",
      "source": [
        "fitur_train, fitur_test, target_train, target_test = train_test_split(fitur_balance, target_balance, test_size=0.25, random_state=42)"
      ],
      "metadata": {
        "id": "_7SPrx9UuM65"
      },
      "execution_count": null,
      "outputs": []
    },
    {
      "cell_type": "code",
      "source": [
        "sc = StandardScaler()\n",
        "zscore_training = sc.fit_transform(fitur_train)\n",
        "zscore_testing = sc.transform(fitur_test)"
      ],
      "metadata": {
        "id": "Bk2kfRhFuO7T"
      },
      "execution_count": null,
      "outputs": []
    },
    {
      "cell_type": "code",
      "source": [
        "mm = MinMaxScaler()\n",
        "minmax_training = mm.fit_transform(fitur_train)\n",
        "minmax_testing = mm.transform(fitur_test)"
      ],
      "metadata": {
        "id": "4lKyRvNSuRw_"
      },
      "execution_count": null,
      "outputs": []
    },
    {
      "cell_type": "code",
      "source": [
        "import matplotlib.pyplot as plt\n",
        "selector = SelectKBest(score_func=mutual_info_classif, k='all')\n",
        "X_new = selector.fit_transform(fitur_balance,target_balance)\n",
        "scores = selector.scores_\n",
        "\n",
        "feature_scores = selector.scores_\n",
        "feature_names = ['fixed acidity', 'volatile acidity', 'citric acid', 'residual sugar',\n",
        "       'chlorides', 'free sulfur dioxide', 'total sulfur dioxide', 'density',\n",
        "       'pH', 'sulphates', 'alcohol']\n",
        "\n",
        "# Sort the feature scores in descending order\n",
        "sorted_indices = feature_scores.argsort()[::-1]\n",
        "\n",
        "# Get the sorted feature scores and names\n",
        "sorted_scores = feature_scores[sorted_indices]\n",
        "sorted_feature_names = [feature_names[i] for i in sorted_indices]\n",
        "\n",
        "# Plot the feature importances\n",
        "plt.figure(figsize=(12, 6))\n",
        "plt.bar(range(len(sorted_feature_names)), sorted_scores)\n",
        "plt.xticks(range(len(sorted_feature_names)), sorted_feature_names, rotation=90)\n",
        "plt.xlabel('Features')\n",
        "plt.ylabel('Information Gain')\n",
        "plt.title('Feature Importance (Information Gain)')\n",
        "plt.show()"
      ],
      "metadata": {
        "colab": {
          "base_uri": "https://localhost:8080/",
          "height": 635
        },
        "id": "FMS7TPwKuUZg",
        "outputId": "fa8788ff-5d89-43df-fdf0-f47b8979342d"
      },
      "execution_count": null,
      "outputs": [
        {
          "output_type": "display_data",
          "data": {
            "text/plain": [
              "<Figure size 1200x600 with 1 Axes>"
            ],
            "image/png": "[encoded data removed]"
          },
          "metadata": {}
        }
      ]
    },
    {
      "cell_type": "markdown",
      "source": [
        "## MODELING\n"
      ],
      "metadata": {
        "id": "qdVKZ8XUuXTv"
      }
    },
    {
      "cell_type": "code",
      "source": [
        "# Free Sulfur Dioxide : 5\n",
        "# Residual Sugar : 3\n",
        "# pH : 8\n",
        "# Fixed Acidity : 0\n",
        "# Chlorides : 4\n",
        "# Total Sulfur Dioxide : 6\n",
        "# Citric Acid : 2\n",
        "# Sulphates : 9\n",
        "# Volatile Acidity : 1\n",
        "# Alcohol : 10\n",
        "# Density : 7"
      ],
      "metadata": {
        "id": "uM-dXOmM1Jg_"
      },
      "execution_count": null,
      "outputs": []
    },
    {
      "cell_type": "markdown",
      "source": [
        "### DECISION TREE"
      ],
      "metadata": {
        "id": "DIypgjYBuXGK"
      }
    },
    {
      "cell_type": "code",
      "source": [
        "# Residual Sugar : 3\n",
        "# Free Sulfur Dioxide : 5\n",
        "# pH : 8\n",
        "# Fixed Acidity : 0\n",
        "# Chlorides : 4\n",
        "# Total Sulfur Dioxide : 6\n",
        "# Citric Acid : 2\n",
        "# Sulphates : 9\n",
        "# Volatile Acidity : 1\n",
        "# Alcohol : 10\n",
        "# Density : 7\n",
        "# zscore_training = np.delete(zscore_training,[3,5,8,0,4,2,6,9,10,1], axis=1)\n",
        "# zscore_testing = np.delete(zscore_testing,[3,5,8,0,4,2,6,9,10,1], axis=1)\n",
        "# minmax_training = np.delete(minmax_training,[3,5,8,0,4,2,6,9,10,1], axis=1)\n",
        "# minmax_testing = np.delete(minmax_testing,[3,5,8,0,4,2,6,9,10,1], axis=1)\n"
      ],
      "metadata": {
        "id": "9x_x7SvYucUd"
      },
      "execution_count": null,
      "outputs": []
    },
    {
      "cell_type": "markdown",
      "source": [
        "### 11 FITUR"
      ],
      "metadata": {
        "id": "BmDebFwWuiBr"
      }
    },
    {
      "cell_type": "code",
      "source": [
        "\n",
        "# Define the parameter grid for Decision Tree\n",
        "param_grid = {\n",
        "    'criterion': ['gini', 'entropy'],\n",
        "    'splitter': ['best', 'random'],\n",
        "    'max_depth': [None, 10, 20, 30, 40, 50],\n",
        "}\n",
        "\n",
        "# Create a Decision Tree model\n",
        "dt_classifier = DecisionTreeClassifier()\n",
        "\n",
        "# Create GridSearchCV for Decision Tree\n",
        "grid_search3 = GridSearchCV(estimator=dt_classifier, param_grid=param_grid, cv=5, scoring='accuracy')\n",
        "grid_search3.fit(zscore_training, target_train)\n",
        "grid_search4 = GridSearchCV(estimator=dt_classifier, param_grid=param_grid, cv=5, scoring='accuracy')\n",
        "grid_search4.fit(minmax_training, target_train)\n",
        "\n",
        "# Display the best parameters\n",
        "print(\"Best Parameters:\", grid_search3.best_params_)\n",
        "print(\"Best Parameters:\", grid_search4.best_params_)\n",
        "\n",
        "# Use the best parameters to create the Decision Tree model\n",
        "best_criterion_zscore = grid_search3.best_params_['criterion']\n",
        "best_splitter_zscore = grid_search3.best_params_['splitter']\n",
        "best_max_depth_zscore = grid_search3.best_params_['max_depth']\n",
        "\n",
        "best_criterion_minmax = grid_search4.best_params_['criterion']\n",
        "best_splitter_minmax = grid_search4.best_params_['splitter']\n",
        "best_max_depth_minmax = grid_search4.best_params_['max_depth']\n"
      ],
      "metadata": {
        "colab": {
          "base_uri": "https://localhost:8080/"
        },
        "id": "ciM1e0MzukaZ",
        "outputId": "d9d658a7-a8e9-4ce8-ac45-8be4cae5f4f0"
      },
      "execution_count": null,
      "outputs": [
        {
          "output_type": "stream",
          "name": "stdout",
          "text": [
            "Best Parameters: {'criterion': 'entropy', 'max_depth': 40, 'splitter': 'random'}\n",
            "Best Parameters: {'criterion': 'entropy', 'max_depth': 10, 'splitter': 'best'}\n"
          ]
        }
      ]
    },
    {
      "cell_type": "code",
      "source": [
        "# ZSCORE\n",
        "model_dt_zscore = DecisionTreeClassifier(criterion=best_criterion_zscore,splitter=best_splitter_zscore,max_depth=best_max_depth_zscore)\n",
        "model_dt_zscore.fit(zscore_training, target_train)\n",
        "# Lakukan prediksi pada data uji dengan normalisasi zscore\n",
        "y_pred_zscore = model_dt_zscore.predict(zscore_testing)\n",
        "# Hitung akurasi dengan normalisasi zscore\n",
        "accuracy_dt_zscore_all = accuracy_score(target_test, y_pred_zscore)\n",
        "\n",
        "# MINMAX\n",
        "model_dt_minmax = DecisionTreeClassifier(criterion=best_criterion_minmax,splitter=best_splitter_minmax,max_depth=best_max_depth_minmax)\n",
        "model_dt_minmax.fit(minmax_training, target_train)\n",
        "# Lakukan prediksi pada data uji dengan normalisasi minmax\n",
        "y_pred_minmax = model_dt_minmax.predict(minmax_testing)\n",
        "# Hitung akurasi dengan normalisasi minmax\n",
        "accuracy_dt_minmax_all = accuracy_score(target_test, y_pred_minmax)\n",
        "\n",
        "print(\"AKURASI DECISSION TREE\")\n",
        "print(\"AKURASI ZSCORE :\",accuracy_dt_zscore_all)\n",
        "print(\"AKURASI MINMAX :\",accuracy_dt_minmax_all)\n"
      ],
      "metadata": {
        "colab": {
          "base_uri": "https://localhost:8080/"
        },
        "id": "ypXYkCAGvXcQ",
        "outputId": "c418a9aa-6eac-4120-8355-70c834789854"
      },
      "execution_count": null,
      "outputs": [
        {
          "output_type": "stream",
          "name": "stdout",
          "text": [
            "AKURASI DECISSION TREE\n",
            "AKURASI ZSCORE : 0.8650519031141869\n",
            "AKURASI MINMAX : 0.8460207612456747\n"
          ]
        }
      ]
    },
    {
      "cell_type": "markdown",
      "source": [
        "### 10 FITUR"
      ],
      "metadata": {
        "id": "gsEI8UDNut87"
      }
    },
    {
      "cell_type": "code",
      "source": [
        "zscore_training1 = np.delete(zscore_training,[3], axis=1)\n",
        "zscore_testing1 = np.delete(zscore_testing,[3], axis=1)\n",
        "minmax_training1 = np.delete(minmax_training,[3], axis=1)\n",
        "minmax_testing1 = np.delete(minmax_testing,[3], axis=1)\n",
        "\n",
        "\n",
        "# Define the parameter grid for Decision Tree\n",
        "param_grid = {\n",
        "    'criterion': ['gini', 'entropy'],\n",
        "    'splitter': ['best', 'random'],\n",
        "    'max_depth': [None, 10, 20, 30, 40, 50],\n",
        "}\n",
        "\n",
        "# Create a Decision Tree model\n",
        "dt_classifier = DecisionTreeClassifier()\n",
        "\n",
        "# Create GridSearchCV for Decision Tree\n",
        "grid_search3 = GridSearchCV(estimator=dt_classifier, param_grid=param_grid, cv=5, scoring='accuracy')\n",
        "grid_search3.fit(zscore_training1, target_train)\n",
        "grid_search4 = GridSearchCV(estimator=dt_classifier, param_grid=param_grid, cv=5, scoring='accuracy')\n",
        "grid_search4.fit(minmax_training1, target_train)\n",
        "\n",
        "# Display the best parameters\n",
        "print(\"Best Parameters:\", grid_search3.best_params_)\n",
        "print(\"Best Parameters:\", grid_search4.best_params_)\n",
        "\n",
        "# Use the best parameters to create the Decision Tree model\n",
        "best_criterion_zscore = grid_search3.best_params_['criterion']\n",
        "best_splitter_zscore = grid_search3.best_params_['splitter']\n",
        "best_max_depth_zscore = grid_search3.best_params_['max_depth']\n",
        "\n",
        "best_criterion_minmax = grid_search4.best_params_['criterion']\n",
        "best_splitter_minmax = grid_search4.best_params_['splitter']\n",
        "best_max_depth_minmax = grid_search4.best_params_['max_depth']\n",
        "\n"
      ],
      "metadata": {
        "colab": {
          "base_uri": "https://localhost:8080/"
        },
        "id": "YQRuJihZuwsK",
        "outputId": "d8c83241-a992-46e8-b7ec-a332720a3e88"
      },
      "execution_count": null,
      "outputs": [
        {
          "output_type": "stream",
          "name": "stdout",
          "text": [
            "Best Parameters: {'criterion': 'entropy', 'max_depth': 50, 'splitter': 'random'}\n",
            "Best Parameters: {'criterion': 'gini', 'max_depth': 20, 'splitter': 'random'}\n"
          ]
        }
      ]
    },
    {
      "cell_type": "code",
      "source": [
        "# ZSCORE\n",
        "model_dt_zscore = DecisionTreeClassifier(criterion=best_criterion_zscore,splitter=best_splitter_zscore,max_depth=best_max_depth_zscore)\n",
        "model_dt_zscore.fit(zscore_training1, target_train)\n",
        "# Lakukan prediksi pada data uji dengan normalisasi zscore\n",
        "y_pred_zscore = model_dt_zscore.predict(zscore_testing1)\n",
        "# Hitung akurasi dengan normalisasi zscore\n",
        "accuracy_dt_zscore_ten = accuracy_score(target_test, y_pred_zscore)\n",
        "\n",
        "# MINMAX\n",
        "model_dt_minmax = DecisionTreeClassifier(criterion=best_criterion_minmax,splitter=best_splitter_minmax,max_depth=best_max_depth_minmax)\n",
        "model_dt_minmax.fit(minmax_training1, target_train)\n",
        "# Lakukan prediksi pada data uji dengan normalisasi minmax\n",
        "y_pred_minmax = model_dt_minmax.predict(minmax_testing1)\n",
        "# Hitung akurasi dengan normalisasi minmax\n",
        "accuracy_dt_minmax_ten = accuracy_score(target_test, y_pred_minmax)\n",
        "\n",
        "print(\"AKURASI DECISSION TREE\")\n",
        "print(\"AKURASI ZSCORE :\",accuracy_dt_zscore_ten)\n",
        "print(\"AKURASI MINMAX :\",accuracy_dt_minmax_ten)\n"
      ],
      "metadata": {
        "colab": {
          "base_uri": "https://localhost:8080/"
        },
        "id": "NYpvzrMPv78_",
        "outputId": "52c57a5c-9ceb-4ec1-cd3b-c874ef9b2c90"
      },
      "execution_count": null,
      "outputs": [
        {
          "output_type": "stream",
          "name": "stdout",
          "text": [
            "AKURASI DECISSION TREE\n",
            "AKURASI ZSCORE : 0.856401384083045\n",
            "AKURASI MINMAX : 0.8373702422145328\n"
          ]
        }
      ]
    },
    {
      "cell_type": "markdown",
      "source": [
        "### 9 FITUR"
      ],
      "metadata": {
        "id": "valQSuhjuxSa"
      }
    },
    {
      "cell_type": "code",
      "source": [
        "zscore_training2 = np.delete(zscore_training,[3,5], axis=1)\n",
        "zscore_testing2 = np.delete(zscore_testing,[3,5], axis=1)\n",
        "minmax_training2 = np.delete(minmax_training,[3,5], axis=1)\n",
        "minmax_testing2 = np.delete(minmax_testing,[3,5], axis=1)\n",
        "\n",
        "\n",
        "# Define the parameter grid for Decision Tree\n",
        "param_grid = {\n",
        "    'criterion': ['gini', 'entropy'],\n",
        "    'splitter': ['best', 'random'],\n",
        "    'max_depth': [None, 10, 20, 30, 40, 50],\n",
        "}\n",
        "\n",
        "# Create a Decision Tree model\n",
        "dt_classifier = DecisionTreeClassifier()\n",
        "\n",
        "# Create GridSearchCV for Decision Tree\n",
        "grid_search3 = GridSearchCV(estimator=dt_classifier, param_grid=param_grid, cv=5, scoring='accuracy')\n",
        "grid_search3.fit(zscore_training2, target_train)\n",
        "grid_search4 = GridSearchCV(estimator=dt_classifier, param_grid=param_grid, cv=5, scoring='accuracy')\n",
        "grid_search4.fit(minmax_training2, target_train)\n",
        "\n",
        "# Display the best parameters\n",
        "print(\"Best Parameters:\", grid_search3.best_params_)\n",
        "print(\"Best Parameters:\", grid_search4.best_params_)\n",
        "\n",
        "# Use the best parameters to create the Decision Tree model\n",
        "best_criterion_zscore = grid_search3.best_params_['criterion']\n",
        "best_splitter_zscore = grid_search3.best_params_['splitter']\n",
        "best_max_depth_zscore = grid_search3.best_params_['max_depth']\n",
        "\n",
        "best_criterion_minmax = grid_search4.best_params_['criterion']\n",
        "best_splitter_minmax = grid_search4.best_params_['splitter']\n",
        "best_max_depth_minmax = grid_search4.best_params_['max_depth']\n",
        "\n"
      ],
      "metadata": {
        "colab": {
          "base_uri": "https://localhost:8080/"
        },
        "id": "NZshUQYMuzm7",
        "outputId": "b193ba59-e059-4a7c-cff5-0664eca90022"
      },
      "execution_count": null,
      "outputs": [
        {
          "output_type": "stream",
          "name": "stdout",
          "text": [
            "Best Parameters: {'criterion': 'gini', 'max_depth': 40, 'splitter': 'best'}\n",
            "Best Parameters: {'criterion': 'gini', 'max_depth': 40, 'splitter': 'random'}\n"
          ]
        }
      ]
    },
    {
      "cell_type": "code",
      "source": [
        "# ZSCORE\n",
        "model_dt_zscore = DecisionTreeClassifier(criterion=best_criterion_zscore,splitter=best_splitter_zscore,max_depth=best_max_depth_zscore)\n",
        "model_dt_zscore.fit(zscore_training2, target_train)\n",
        "# Lakukan prediksi pada data uji dengan normalisasi zscore\n",
        "y_pred_zscore = model_dt_zscore.predict(zscore_testing2)\n",
        "# Hitung akurasi dengan normalisasi zscore\n",
        "accuracy_dt_zscore_nine = accuracy_score(target_test, y_pred_zscore)\n",
        "\n",
        "# MINMAX\n",
        "model_dt_minmax = DecisionTreeClassifier(criterion=best_criterion_minmax,splitter=best_splitter_minmax,max_depth=best_max_depth_minmax)\n",
        "model_dt_minmax.fit(minmax_training2, target_train)\n",
        "# Lakukan prediksi pada data uji dengan normalisasi minmax\n",
        "y_pred_minmax = model_dt_minmax.predict(minmax_testing2)\n",
        "# Hitung akurasi dengan normalisasi minmax\n",
        "accuracy_dt_minmax_nine = accuracy_score(target_test, y_pred_minmax)\n",
        "\n",
        "print(\"AKURASI DECISSION TREE\")\n",
        "print(\"AKURASI ZSCORE :\",accuracy_dt_zscore_nine)\n",
        "print(\"AKURASI MINMAX :\",accuracy_dt_minmax_nine)\n"
      ],
      "metadata": {
        "colab": {
          "base_uri": "https://localhost:8080/"
        },
        "id": "52JigngRwm5Z",
        "outputId": "b451213e-c24f-4855-b0f7-41caf4fb4d55"
      },
      "execution_count": null,
      "outputs": [
        {
          "output_type": "stream",
          "name": "stdout",
          "text": [
            "AKURASI DECISSION TREE\n",
            "AKURASI ZSCORE : 0.8373702422145328\n",
            "AKURASI MINMAX : 0.8650519031141869\n"
          ]
        }
      ]
    },
    {
      "cell_type": "markdown",
      "source": [
        "### 8 FITUR"
      ],
      "metadata": {
        "id": "0KbSbaZqu0Kk"
      }
    },
    {
      "cell_type": "code",
      "source": [
        "zscore_training3 = np.delete(zscore_training,[3,5,8], axis=1)\n",
        "zscore_testing3 = np.delete(zscore_testing,[3,5,8], axis=1)\n",
        "minmax_training3 = np.delete(minmax_training,[3,5,8], axis=1)\n",
        "minmax_testing3 = np.delete(minmax_testing,[3,5,8], axis=1)\n",
        "\n",
        "\n",
        "# Define the parameter grid for Decision Tree\n",
        "param_grid = {\n",
        "    'criterion': ['gini', 'entropy'],\n",
        "    'splitter': ['best', 'random'],\n",
        "    'max_depth': [None, 10, 20, 30, 40, 50],\n",
        "}\n",
        "\n",
        "# Create a Decision Tree model\n",
        "dt_classifier = DecisionTreeClassifier()\n",
        "\n",
        "# Create GridSearchCV for Decision Tree\n",
        "grid_search3 = GridSearchCV(estimator=dt_classifier, param_grid=param_grid, cv=5, scoring='accuracy')\n",
        "grid_search3.fit(zscore_training3, target_train)\n",
        "grid_search4 = GridSearchCV(estimator=dt_classifier, param_grid=param_grid, cv=5, scoring='accuracy')\n",
        "grid_search4.fit(minmax_training3, target_train)\n",
        "\n",
        "# Display the best parameters\n",
        "print(\"Best Parameters:\", grid_search3.best_params_)\n",
        "print(\"Best Parameters:\", grid_search4.best_params_)\n",
        "\n",
        "# Use the best parameters to create the Decision Tree model\n",
        "best_criterion_zscore = grid_search3.best_params_['criterion']\n",
        "best_splitter_zscore = grid_search3.best_params_['splitter']\n",
        "best_max_depth_zscore = grid_search3.best_params_['max_depth']\n",
        "\n",
        "best_criterion_minmax = grid_search4.best_params_['criterion']\n",
        "best_splitter_minmax = grid_search4.best_params_['splitter']\n",
        "best_max_depth_minmax = grid_search4.best_params_['max_depth']\n",
        "\n"
      ],
      "metadata": {
        "colab": {
          "base_uri": "https://localhost:8080/"
        },
        "id": "yqCxvF5Lu3US",
        "outputId": "c32e6f7a-17e7-4a15-b4de-95e22b38bdec"
      },
      "execution_count": null,
      "outputs": [
        {
          "output_type": "stream",
          "name": "stdout",
          "text": [
            "Best Parameters: {'criterion': 'gini', 'max_depth': 30, 'splitter': 'best'}\n",
            "Best Parameters: {'criterion': 'gini', 'max_depth': 40, 'splitter': 'best'}\n"
          ]
        }
      ]
    },
    {
      "cell_type": "code",
      "source": [
        "# ZSCORE\n",
        "model_dt_zscore = DecisionTreeClassifier(criterion=best_criterion_zscore,splitter=best_splitter_zscore,max_depth=best_max_depth_zscore)\n",
        "model_dt_zscore.fit(zscore_training3, target_train)\n",
        "# Lakukan prediksi pada data uji dengan normalisasi zscore\n",
        "y_pred_zscore = model_dt_zscore.predict(zscore_testing3)\n",
        "# Hitung akurasi dengan normalisasi zscore\n",
        "accuracy_dt_zscore_eight = accuracy_score(target_test, y_pred_zscore)\n",
        "\n",
        "# MINMAX\n",
        "model_dt_minmax = DecisionTreeClassifier(criterion=best_criterion_minmax,splitter=best_splitter_minmax,max_depth=best_max_depth_minmax)\n",
        "model_dt_minmax.fit(minmax_training3, target_train)\n",
        "# Lakukan prediksi pada data uji dengan normalisasi minmax\n",
        "y_pred_minmax = model_dt_minmax.predict(minmax_testing3)\n",
        "# Hitung akurasi dengan normalisasi minmax\n",
        "accuracy_dt_minmax_eight = accuracy_score(target_test, y_pred_minmax)\n",
        "\n",
        "print(\"AKURASI DECISSION TREE\")\n",
        "print(\"AKURASI ZSCORE :\",accuracy_dt_zscore_eight)\n",
        "print(\"AKURASI MINMAX :\",accuracy_dt_minmax_eight)\n"
      ],
      "metadata": {
        "colab": {
          "base_uri": "https://localhost:8080/"
        },
        "id": "8sygiLPWw88Z",
        "outputId": "29f41686-3d3e-47d9-b0a0-7f9aa7c10354"
      },
      "execution_count": null,
      "outputs": [
        {
          "output_type": "stream",
          "name": "stdout",
          "text": [
            "AKURASI DECISSION TREE\n",
            "AKURASI ZSCORE : 0.8304498269896193\n",
            "AKURASI MINMAX : 0.8269896193771626\n"
          ]
        }
      ]
    },
    {
      "cell_type": "markdown",
      "source": [
        "### 7 FITUR"
      ],
      "metadata": {
        "id": "fLTogrVku4OC"
      }
    },
    {
      "cell_type": "code",
      "source": [
        "zscore_training4 = np.delete(zscore_training,[3,5,8,0], axis=1)\n",
        "zscore_testing4 = np.delete(zscore_testing,[3,5,8,0], axis=1)\n",
        "minmax_training4 = np.delete(minmax_training,[3,5,8,0], axis=1)\n",
        "minmax_testing4 = np.delete(minmax_testing,[3,5,8,0], axis=1)\n",
        "\n",
        "\n",
        "# Define the parameter grid for Decision Tree\n",
        "param_grid = {\n",
        "    'criterion': ['gini', 'entropy'],\n",
        "    'splitter': ['best', 'random'],\n",
        "    'max_depth': [None, 10, 20, 30, 40, 50],\n",
        "}\n",
        "\n",
        "# Create a Decision Tree model\n",
        "dt_classifier = DecisionTreeClassifier()\n",
        "\n",
        "# Create GridSearchCV for Decision Tree\n",
        "grid_search3 = GridSearchCV(estimator=dt_classifier, param_grid=param_grid, cv=5, scoring='accuracy')\n",
        "grid_search3.fit(zscore_training4, target_train)\n",
        "grid_search4 = GridSearchCV(estimator=dt_classifier, param_grid=param_grid, cv=5, scoring='accuracy')\n",
        "grid_search4.fit(minmax_training4, target_train)\n",
        "\n",
        "# Display the best parameters\n",
        "print(\"Best Parameters:\", grid_search3.best_params_)\n",
        "print(\"Best Parameters:\", grid_search4.best_params_)\n",
        "\n",
        "# Use the best parameters to create the Decision Tree model\n",
        "best_criterion_zscore = grid_search3.best_params_['criterion']\n",
        "best_splitter_zscore = grid_search3.best_params_['splitter']\n",
        "best_max_depth_zscore = grid_search3.best_params_['max_depth']\n",
        "\n",
        "best_criterion_minmax = grid_search4.best_params_['criterion']\n",
        "best_splitter_minmax = grid_search4.best_params_['splitter']\n",
        "best_max_depth_minmax = grid_search4.best_params_['max_depth']\n",
        "\n"
      ],
      "metadata": {
        "colab": {
          "base_uri": "https://localhost:8080/"
        },
        "id": "M6dq3Mbsu6u-",
        "outputId": "a99f0a3a-01fe-43aa-df79-15d13e3ff808"
      },
      "execution_count": null,
      "outputs": [
        {
          "output_type": "stream",
          "name": "stdout",
          "text": [
            "Best Parameters: {'criterion': 'gini', 'max_depth': 10, 'splitter': 'best'}\n",
            "Best Parameters: {'criterion': 'gini', 'max_depth': 10, 'splitter': 'best'}\n"
          ]
        }
      ]
    },
    {
      "cell_type": "code",
      "source": [
        "# ZSCORE\n",
        "model_dt_zscore = DecisionTreeClassifier(criterion=best_criterion_zscore,splitter=best_splitter_zscore,max_depth=best_max_depth_zscore)\n",
        "model_dt_zscore.fit(zscore_training4, target_train)\n",
        "# Lakukan prediksi pada data uji dengan normalisasi zscore\n",
        "y_pred_zscore = model_dt_zscore.predict(zscore_testing4)\n",
        "# Hitung akurasi dengan normalisasi zscore\n",
        "accuracy_dt_zscore_seven = accuracy_score(target_test, y_pred_zscore)\n",
        "\n",
        "# MINMAX\n",
        "model_dt_minmax = DecisionTreeClassifier(criterion=best_criterion_minmax,splitter=best_splitter_minmax,max_depth=best_max_depth_minmax)\n",
        "model_dt_minmax.fit(minmax_training4, target_train)\n",
        "# Lakukan prediksi pada data uji dengan normalisasi minmax\n",
        "y_pred_minmax = model_dt_minmax.predict(minmax_testing4)\n",
        "# Hitung akurasi dengan normalisasi minmax\n",
        "accuracy_dt_minmax_seven = accuracy_score(target_test, y_pred_minmax)\n",
        "\n",
        "print(\"AKURASI DECISSION TREE\")\n",
        "print(\"AKURASI ZSCORE :\",accuracy_dt_zscore_seven)\n",
        "print(\"AKURASI MINMAX :\",accuracy_dt_minmax_seven)\n"
      ],
      "metadata": {
        "colab": {
          "base_uri": "https://localhost:8080/"
        },
        "id": "EspQkHQbxOCW",
        "outputId": "e3d2f6c4-1758-4c59-cdd4-a3aaadf9fab5"
      },
      "execution_count": null,
      "outputs": [
        {
          "output_type": "stream",
          "name": "stdout",
          "text": [
            "AKURASI DECISSION TREE\n",
            "AKURASI ZSCORE : 0.8494809688581315\n",
            "AKURASI MINMAX : 0.8442906574394463\n"
          ]
        }
      ]
    },
    {
      "cell_type": "markdown",
      "source": [
        "### 6 FITUR"
      ],
      "metadata": {
        "id": "w0Vr7aqdu7c_"
      }
    },
    {
      "cell_type": "code",
      "source": [
        "zscore_training5 = np.delete(zscore_training,[3,5,8,0,4], axis=1)\n",
        "zscore_testing5 = np.delete(zscore_testing,[3,5,8,0,4], axis=1)\n",
        "minmax_training5 = np.delete(minmax_training,[3,5,8,0,4], axis=1)\n",
        "minmax_testing5 = np.delete(minmax_testing,[3,5,8,0,4], axis=1)\n",
        "\n",
        "\n",
        "# Define the parameter grid for Decision Tree\n",
        "param_grid = {\n",
        "    'criterion': ['gini', 'entropy'],\n",
        "    'splitter': ['best', 'random'],\n",
        "    'max_depth': [None, 10, 20, 30, 40, 50],\n",
        "}\n",
        "\n",
        "# Create a Decision Tree model\n",
        "dt_classifier = DecisionTreeClassifier()\n",
        "\n",
        "# Create GridSearchCV for Decision Tree\n",
        "grid_search3 = GridSearchCV(estimator=dt_classifier, param_grid=param_grid, cv=5, scoring='accuracy')\n",
        "grid_search3.fit(zscore_training5, target_train)\n",
        "grid_search4 = GridSearchCV(estimator=dt_classifier, param_grid=param_grid, cv=5, scoring='accuracy')\n",
        "grid_search4.fit(minmax_training5, target_train)\n",
        "\n",
        "# Display the best parameters\n",
        "print(\"Best Parameters:\", grid_search3.best_params_)\n",
        "print(\"Best Parameters:\", grid_search4.best_params_)\n",
        "\n",
        "# Use the best parameters to create the Decision Tree model\n",
        "best_criterion_zscore = grid_search3.best_params_['criterion']\n",
        "best_splitter_zscore = grid_search3.best_params_['splitter']\n",
        "best_max_depth_zscore = grid_search3.best_params_['max_depth']\n",
        "\n",
        "best_criterion_minmax = grid_search4.best_params_['criterion']\n",
        "best_splitter_minmax = grid_search4.best_params_['splitter']\n",
        "best_max_depth_minmax = grid_search4.best_params_['max_depth']\n",
        "\n"
      ],
      "metadata": {
        "colab": {
          "base_uri": "https://localhost:8080/"
        },
        "id": "fP9vINjDu8pN",
        "outputId": "e3c9bb57-e525-4f2f-885d-d424db11403b"
      },
      "execution_count": null,
      "outputs": [
        {
          "output_type": "stream",
          "name": "stdout",
          "text": [
            "Best Parameters: {'criterion': 'entropy', 'max_depth': None, 'splitter': 'random'}\n",
            "Best Parameters: {'criterion': 'entropy', 'max_depth': 10, 'splitter': 'random'}\n"
          ]
        }
      ]
    },
    {
      "cell_type": "code",
      "source": [
        "# ZSCORE\n",
        "model_dt_zscore = DecisionTreeClassifier(criterion=best_criterion_zscore,splitter=best_splitter_zscore,max_depth=best_max_depth_zscore)\n",
        "model_dt_zscore.fit(zscore_training5, target_train)\n",
        "# Lakukan prediksi pada data uji dengan normalisasi zscore\n",
        "y_pred_zscore = model_dt_zscore.predict(zscore_testing5)\n",
        "# Hitung akurasi dengan normalisasi zscore\n",
        "accuracy_dt_zscore_six = accuracy_score(target_test, y_pred_zscore)\n",
        "\n",
        "# MINMAX\n",
        "model_dt_minmax = DecisionTreeClassifier(criterion=best_criterion_minmax,splitter=best_splitter_minmax,max_depth=best_max_depth_minmax)\n",
        "model_dt_minmax.fit(minmax_training5, target_train)\n",
        "# Lakukan prediksi pada data uji dengan normalisasi minmax\n",
        "y_pred_minmax = model_dt_minmax.predict(minmax_testing5)\n",
        "# Hitung akurasi dengan normalisasi minmax\n",
        "accuracy_dt_minmax_six = accuracy_score(target_test, y_pred_minmax)\n",
        "\n",
        "print(\"AKURASI DECISSION TREE\")\n",
        "print(\"AKURASI ZSCORE :\",accuracy_dt_zscore_six)\n",
        "print(\"AKURASI MINMAX :\",accuracy_dt_minmax_six)\n"
      ],
      "metadata": {
        "colab": {
          "base_uri": "https://localhost:8080/"
        },
        "id": "_wCCZZnAxj8m",
        "outputId": "c23bcdbd-a99b-4b31-c794-c4020a8c5cdf"
      },
      "execution_count": null,
      "outputs": [
        {
          "output_type": "stream",
          "name": "stdout",
          "text": [
            "AKURASI DECISSION TREE\n",
            "AKURASI ZSCORE : 0.8494809688581315\n",
            "AKURASI MINMAX : 0.828719723183391\n"
          ]
        }
      ]
    },
    {
      "cell_type": "markdown",
      "source": [
        "### 5 FITUR"
      ],
      "metadata": {
        "id": "CUb8jg9qu9gd"
      }
    },
    {
      "cell_type": "code",
      "source": [
        "zscore_training6 = np.delete(zscore_training,[3,5,8,0,4,2], axis=1)\n",
        "zscore_testing6 = np.delete(zscore_testing,[3,5,8,0,4,2], axis=1)\n",
        "minmax_training6 = np.delete(minmax_training,[3,5,8,0,4,2], axis=1)\n",
        "minmax_testing6 = np.delete(minmax_testing,[3,5,8,0,4,2], axis=1)\n",
        "\n",
        "\n",
        "# Define the parameter grid for Decision Tree\n",
        "param_grid = {\n",
        "    'criterion': ['gini', 'entropy'],\n",
        "    'splitter': ['best', 'random'],\n",
        "    'max_depth': [None, 10, 20, 30, 40, 50],\n",
        "}\n",
        "\n",
        "# Create a Decision Tree model\n",
        "dt_classifier = DecisionTreeClassifier()\n",
        "\n",
        "# Create GridSearchCV for Decision Tree\n",
        "grid_search3 = GridSearchCV(estimator=dt_classifier, param_grid=param_grid, cv=5, scoring='accuracy')\n",
        "grid_search3.fit(zscore_training6, target_train)\n",
        "grid_search4 = GridSearchCV(estimator=dt_classifier, param_grid=param_grid, cv=5, scoring='accuracy')\n",
        "grid_search4.fit(minmax_training6, target_train)\n",
        "\n",
        "# Display the best parameters\n",
        "print(\"Best Parameters:\", grid_search3.best_params_)\n",
        "print(\"Best Parameters:\", grid_search4.best_params_)\n",
        "\n",
        "# Use the best parameters to create the Decision Tree model\n",
        "best_criterion_zscore = grid_search3.best_params_['criterion']\n",
        "best_splitter_zscore = grid_search3.best_params_['splitter']\n",
        "best_max_depth_zscore = grid_search3.best_params_['max_depth']\n",
        "\n",
        "best_criterion_minmax = grid_search4.best_params_['criterion']\n",
        "best_splitter_minmax = grid_search4.best_params_['splitter']\n",
        "best_max_depth_minmax = grid_search4.best_params_['max_depth']\n",
        "\n"
      ],
      "metadata": {
        "colab": {
          "base_uri": "https://localhost:8080/"
        },
        "id": "g2AfVVJxu_BS",
        "outputId": "5adaac15-2f27-4335-c67d-904815d824a3"
      },
      "execution_count": null,
      "outputs": [
        {
          "output_type": "stream",
          "name": "stdout",
          "text": [
            "Best Parameters: {'criterion': 'gini', 'max_depth': 10, 'splitter': 'best'}\n",
            "Best Parameters: {'criterion': 'gini', 'max_depth': 40, 'splitter': 'random'}\n"
          ]
        }
      ]
    },
    {
      "cell_type": "code",
      "source": [
        "# ZSCORE\n",
        "model_dt_zscore = DecisionTreeClassifier(criterion=best_criterion_zscore,splitter=best_splitter_zscore,max_depth=best_max_depth_zscore)\n",
        "model_dt_zscore.fit(zscore_training6, target_train)\n",
        "# Lakukan prediksi pada data uji dengan normalisasi zscore\n",
        "y_pred_zscore = model_dt_zscore.predict(zscore_testing6)\n",
        "# Hitung akurasi dengan normalisasi zscore\n",
        "accuracy_dt_zscore_five = accuracy_score(target_test, y_pred_zscore)\n",
        "\n",
        "# MINMAX\n",
        "model_dt_minmax = DecisionTreeClassifier(criterion=best_criterion_minmax,splitter=best_splitter_minmax,max_depth=best_max_depth_minmax)\n",
        "model_dt_minmax.fit(minmax_training6, target_train)\n",
        "# Lakukan prediksi pada data uji dengan normalisasi minmax\n",
        "y_pred_minmax = model_dt_minmax.predict(minmax_testing6)\n",
        "# Hitung akurasi dengan normalisasi minmax\n",
        "accuracy_dt_minmax_five = accuracy_score(target_test, y_pred_minmax)\n",
        "\n",
        "print(\"AKURASI DECISSION TREE\")\n",
        "print(\"AKURASI ZSCORE :\",accuracy_dt_zscore_five)\n",
        "print(\"AKURASI MINMAX :\",accuracy_dt_minmax_five)\n"
      ],
      "metadata": {
        "colab": {
          "base_uri": "https://localhost:8080/"
        },
        "id": "hPlFdhQAx7Dl",
        "outputId": "b06953e5-27d1-4bcb-a23c-a82a20b2b1c5"
      },
      "execution_count": null,
      "outputs": [
        {
          "output_type": "stream",
          "name": "stdout",
          "text": [
            "AKURASI DECISSION TREE\n",
            "AKURASI ZSCORE : 0.8391003460207612\n",
            "AKURASI MINMAX : 0.8269896193771626\n"
          ]
        }
      ]
    },
    {
      "cell_type": "markdown",
      "source": [
        "### 4 FITUR"
      ],
      "metadata": {
        "id": "CG8zgGz1vA8h"
      }
    },
    {
      "cell_type": "code",
      "source": [
        "zscore_training7 = np.delete(zscore_training,[3,5,8,0,4,2,6], axis=1)\n",
        "zscore_testing7 = np.delete(zscore_testing,[3,5,8,0,4,2,6], axis=1)\n",
        "minmax_training7 = np.delete(minmax_training,[3,5,8,0,4,2,6], axis=1)\n",
        "minmax_testing7 = np.delete(minmax_testing,[3,5,8,0,4,2,6], axis=1)\n",
        "\n",
        "\n",
        "# Define the parameter grid for Decision Tree\n",
        "param_grid = {\n",
        "    'criterion': ['gini', 'entropy'],\n",
        "    'splitter': ['best', 'random'],\n",
        "    'max_depth': [None, 10, 20, 30, 40, 50],\n",
        "}\n",
        "\n",
        "# Create a Decision Tree model\n",
        "dt_classifier = DecisionTreeClassifier()\n",
        "\n",
        "# Create GridSearchCV for Decision Tree\n",
        "grid_search3 = GridSearchCV(estimator=dt_classifier, param_grid=param_grid, cv=5, scoring='accuracy')\n",
        "grid_search3.fit(zscore_training7, target_train)\n",
        "grid_search4 = GridSearchCV(estimator=dt_classifier, param_grid=param_grid, cv=5, scoring='accuracy')\n",
        "grid_search4.fit(minmax_training7, target_train)\n",
        "\n",
        "# Display the best parameters\n",
        "print(\"Best Parameters:\", grid_search3.best_params_)\n",
        "print(\"Best Parameters:\", grid_search4.best_params_)\n",
        "\n",
        "# Use the best parameters to create the Decision Tree model\n",
        "best_criterion_zscore = grid_search3.best_params_['criterion']\n",
        "best_splitter_zscore = grid_search3.best_params_['splitter']\n",
        "best_max_depth_zscore = grid_search3.best_params_['max_depth']\n",
        "\n",
        "best_criterion_minmax = grid_search4.best_params_['criterion']\n",
        "best_splitter_minmax = grid_search4.best_params_['splitter']\n",
        "best_max_depth_minmax = grid_search4.best_params_['max_depth']\n",
        "\n"
      ],
      "metadata": {
        "colab": {
          "base_uri": "https://localhost:8080/"
        },
        "id": "hsNqL3BLvDVh",
        "outputId": "916c422c-5b72-4363-d1f9-226c69f1c9a0"
      },
      "execution_count": null,
      "outputs": [
        {
          "output_type": "stream",
          "name": "stdout",
          "text": [
            "Best Parameters: {'criterion': 'gini', 'max_depth': 10, 'splitter': 'best'}\n",
            "Best Parameters: {'criterion': 'gini', 'max_depth': 10, 'splitter': 'best'}\n"
          ]
        }
      ]
    },
    {
      "cell_type": "code",
      "source": [
        "# ZSCORE\n",
        "model_dt_zscore = DecisionTreeClassifier(criterion=best_criterion_zscore,splitter=best_splitter_zscore,max_depth=best_max_depth_zscore)\n",
        "model_dt_zscore.fit(zscore_training7, target_train)\n",
        "# Lakukan prediksi pada data uji dengan normalisasi zscore\n",
        "y_pred_zscore = model_dt_zscore.predict(zscore_testing7)\n",
        "# Hitung akurasi dengan normalisasi zscore\n",
        "accuracy_dt_zscore_four = accuracy_score(target_test, y_pred_zscore)\n",
        "\n",
        "# MINMAX\n",
        "model_dt_minmax = DecisionTreeClassifier(criterion=best_criterion_minmax,splitter=best_splitter_minmax,max_depth=best_max_depth_minmax)\n",
        "model_dt_minmax.fit(minmax_training7, target_train)\n",
        "# Lakukan prediksi pada data uji dengan normalisasi minmax\n",
        "y_pred_minmax = model_dt_minmax.predict(minmax_testing7)\n",
        "# Hitung akurasi dengan normalisasi minmax\n",
        "accuracy_dt_minmax_four = accuracy_score(target_test, y_pred_minmax)\n",
        "\n",
        "print(\"AKURASI DECISSION TREE\")\n",
        "print(\"AKURASI ZSCORE :\",accuracy_dt_zscore_four)\n",
        "print(\"AKURASI MINMAX :\",accuracy_dt_minmax_four)\n"
      ],
      "metadata": {
        "colab": {
          "base_uri": "https://localhost:8080/"
        },
        "id": "33AlGIacySQl",
        "outputId": "f9a45deb-f95d-4ef3-e966-f28466e42492"
      },
      "execution_count": null,
      "outputs": [
        {
          "output_type": "stream",
          "name": "stdout",
          "text": [
            "AKURASI DECISSION TREE\n",
            "AKURASI ZSCORE : 0.856401384083045\n",
            "AKURASI MINMAX : 0.8529411764705882\n"
          ]
        }
      ]
    },
    {
      "cell_type": "markdown",
      "source": [
        "### 3 FITUR"
      ],
      "metadata": {
        "id": "3QuENpkUvELt"
      }
    },
    {
      "cell_type": "code",
      "source": [
        "zscore_training8 = np.delete(zscore_training,[3,5,8,0,4,2,6,9], axis=1)\n",
        "zscore_testing8 = np.delete(zscore_testing,[3,5,8,0,4,2,6,9], axis=1)\n",
        "minmax_training8 = np.delete(minmax_training,[3,5,8,0,4,2,6,9], axis=1)\n",
        "minmax_testing8 = np.delete(minmax_testing,[3,5,8,0,4,2,6,9], axis=1)\n",
        "\n",
        "\n",
        "# Define the parameter grid for Decision Tree\n",
        "param_grid = {\n",
        "    'criterion': ['gini', 'entropy'],\n",
        "    'splitter': ['best', 'random'],\n",
        "    'max_depth': [None, 10, 20, 30, 40, 50],\n",
        "}\n",
        "\n",
        "# Create a Decision Tree model\n",
        "dt_classifier = DecisionTreeClassifier()\n",
        "\n",
        "# Create GridSearchCV for Decision Tree\n",
        "grid_search3 = GridSearchCV(estimator=dt_classifier, param_grid=param_grid, cv=5, scoring='accuracy')\n",
        "grid_search3.fit(zscore_training8, target_train)\n",
        "grid_search4 = GridSearchCV(estimator=dt_classifier, param_grid=param_grid, cv=5, scoring='accuracy')\n",
        "grid_search4.fit(minmax_training8, target_train)\n",
        "\n",
        "# Display the best parameters\n",
        "print(\"Best Parameters:\", grid_search3.best_params_)\n",
        "print(\"Best Parameters:\", grid_search4.best_params_)\n",
        "\n",
        "# Use the best parameters to create the Decision Tree model\n",
        "best_criterion_zscore = grid_search3.best_params_['criterion']\n",
        "best_splitter_zscore = grid_search3.best_params_['splitter']\n",
        "best_max_depth_zscore = grid_search3.best_params_['max_depth']\n",
        "\n",
        "best_criterion_minmax = grid_search4.best_params_['criterion']\n",
        "best_splitter_minmax = grid_search4.best_params_['splitter']\n",
        "best_max_depth_minmax = grid_search4.best_params_['max_depth']\n",
        "\n"
      ],
      "metadata": {
        "colab": {
          "base_uri": "https://localhost:8080/"
        },
        "id": "kT4ff38UvFqD",
        "outputId": "85c6d82a-6e3e-47af-9959-411381aac5f4"
      },
      "execution_count": null,
      "outputs": [
        {
          "output_type": "stream",
          "name": "stdout",
          "text": [
            "Best Parameters: {'criterion': 'gini', 'max_depth': 10, 'splitter': 'random'}\n",
            "Best Parameters: {'criterion': 'gini', 'max_depth': 10, 'splitter': 'best'}\n"
          ]
        }
      ]
    },
    {
      "cell_type": "code",
      "source": [
        "# ZSCORE\n",
        "model_dt_zscore = DecisionTreeClassifier(criterion=best_criterion_zscore,splitter=best_splitter_zscore,max_depth=best_max_depth_zscore)\n",
        "model_dt_zscore.fit(zscore_training8, target_train)\n",
        "# Lakukan prediksi pada data uji dengan normalisasi zscore\n",
        "y_pred_zscore = model_dt_zscore.predict(zscore_testing8)\n",
        "# Hitung akurasi dengan normalisasi zscore\n",
        "accuracy_dt_zscore_three = accuracy_score(target_test, y_pred_zscore)\n",
        "\n",
        "# MINMAX\n",
        "model_dt_minmax = DecisionTreeClassifier(criterion=best_criterion_minmax,splitter=best_splitter_minmax,max_depth=best_max_depth_minmax)\n",
        "model_dt_minmax.fit(minmax_training8, target_train)\n",
        "# Lakukan prediksi pada data uji dengan normalisasi minmax\n",
        "y_pred_minmax = model_dt_minmax.predict(minmax_testing8)\n",
        "# Hitung akurasi dengan normalisasi minmax\n",
        "accuracy_dt_minmax_three = accuracy_score(target_test, y_pred_minmax)\n",
        "\n",
        "print(\"AKURASI DECISSION TREE\")\n",
        "print(\"AKURASI ZSCORE :\",accuracy_dt_zscore_three)\n",
        "print(\"AKURASI MINMAX :\",accuracy_dt_minmax_three)\n"
      ],
      "metadata": {
        "colab": {
          "base_uri": "https://localhost:8080/"
        },
        "id": "G1Zw8t3NyjgL",
        "outputId": "7838b8ab-a45b-4d38-f72d-c62ad94fc9ef"
      },
      "execution_count": null,
      "outputs": [
        {
          "output_type": "stream",
          "name": "stdout",
          "text": [
            "AKURASI DECISSION TREE\n",
            "AKURASI ZSCORE : 0.8096885813148789\n",
            "AKURASI MINMAX : 0.8269896193771626\n"
          ]
        }
      ]
    },
    {
      "cell_type": "markdown",
      "source": [
        "### 2 FITUR"
      ],
      "metadata": {
        "id": "Da7OvW76vG2A"
      }
    },
    {
      "cell_type": "code",
      "source": [
        "zscore_training9 = np.delete(zscore_training,[3,5,8,0,4,2,6,9,10], axis=1)\n",
        "zscore_testing9 = np.delete(zscore_testing,[3,5,8,0,4,2,6,9,10], axis=1)\n",
        "minmax_training9 = np.delete(minmax_training,[3,5,8,0,4,2,6,9,10], axis=1)\n",
        "minmax_testing9 = np.delete(minmax_testing,[3,5,8,0,4,2,6,9,10], axis=1)\n",
        "\n",
        "\n",
        "# Define the parameter grid for Decision Tree\n",
        "param_grid = {\n",
        "    'criterion': ['gini', 'entropy'],\n",
        "    'splitter': ['best', 'random'],\n",
        "    'max_depth': [None, 10, 20, 30, 40, 50],\n",
        "}\n",
        "\n",
        "# Create a Decision Tree model\n",
        "dt_classifier = DecisionTreeClassifier()\n",
        "\n",
        "# Create GridSearchCV for Decision Tree\n",
        "grid_search3 = GridSearchCV(estimator=dt_classifier, param_grid=param_grid, cv=5, scoring='accuracy')\n",
        "grid_search3.fit(zscore_training9, target_train)\n",
        "grid_search4 = GridSearchCV(estimator=dt_classifier, param_grid=param_grid, cv=5, scoring='accuracy')\n",
        "grid_search4.fit(minmax_training9, target_train)\n",
        "\n",
        "# Display the best parameters\n",
        "print(\"Best Parameters:\", grid_search3.best_params_)\n",
        "print(\"Best Parameters:\", grid_search4.best_params_)\n",
        "\n",
        "# Use the best parameters to create the Decision Tree model\n",
        "best_criterion_zscore = grid_search3.best_params_['criterion']\n",
        "best_splitter_zscore = grid_search3.best_params_['splitter']\n",
        "best_max_depth_zscore = grid_search3.best_params_['max_depth']\n",
        "\n",
        "best_criterion_minmax = grid_search4.best_params_['criterion']\n",
        "best_splitter_minmax = grid_search4.best_params_['splitter']\n",
        "best_max_depth_minmax = grid_search4.best_params_['max_depth']\n",
        "\n"
      ],
      "metadata": {
        "colab": {
          "base_uri": "https://localhost:8080/"
        },
        "id": "WMuWRrsBvKGK",
        "outputId": "f67fd108-b490-40e5-85a3-78d6b823759f"
      },
      "execution_count": null,
      "outputs": [
        {
          "output_type": "stream",
          "name": "stdout",
          "text": [
            "Best Parameters: {'criterion': 'entropy', 'max_depth': 20, 'splitter': 'best'}\n",
            "Best Parameters: {'criterion': 'entropy', 'max_depth': None, 'splitter': 'best'}\n"
          ]
        }
      ]
    },
    {
      "cell_type": "code",
      "source": [
        "# ZSCORE\n",
        "model_dt_zscore = DecisionTreeClassifier(criterion=best_criterion_zscore,splitter=best_splitter_zscore,max_depth=best_max_depth_zscore)\n",
        "model_dt_zscore.fit(zscore_training9, target_train)\n",
        "# Lakukan prediksi pada data uji dengan normalisasi zscore\n",
        "y_pred_zscore = model_dt_zscore.predict(zscore_testing9)\n",
        "# Hitung akurasi dengan normalisasi zscore\n",
        "accuracy_dt_zscore_two = accuracy_score(target_test, y_pred_zscore)\n",
        "\n",
        "# MINMAX\n",
        "model_dt_minmax = DecisionTreeClassifier(criterion=best_criterion_minmax,splitter=best_splitter_minmax,max_depth=best_max_depth_minmax)\n",
        "model_dt_minmax.fit(minmax_training9, target_train)\n",
        "# Lakukan prediksi pada data uji dengan normalisasi minmax\n",
        "y_pred_minmax = model_dt_minmax.predict(minmax_testing9)\n",
        "# Hitung akurasi dengan normalisasi minmax\n",
        "accuracy_dt_minmax_two = accuracy_score(target_test, y_pred_minmax)\n",
        "\n",
        "print(\"AKURASI DECISSION TREE\")\n",
        "print(\"AKURASI ZSCORE :\",accuracy_dt_zscore_two)\n",
        "print(\"AKURASI MINMAX :\",accuracy_dt_minmax_two)\n"
      ],
      "metadata": {
        "colab": {
          "base_uri": "https://localhost:8080/"
        },
        "id": "2ovuxDwzy0GC",
        "outputId": "a38a12fe-8a51-419a-f474-eb2bbb527f7f"
      },
      "execution_count": null,
      "outputs": [
        {
          "output_type": "stream",
          "name": "stdout",
          "text": [
            "AKURASI DECISSION TREE\n",
            "AKURASI ZSCORE : 0.754325259515571\n",
            "AKURASI MINMAX : 0.754325259515571\n"
          ]
        }
      ]
    },
    {
      "cell_type": "markdown",
      "source": [
        "### 1 FITUR"
      ],
      "metadata": {
        "id": "zWgI-iKpvKt_"
      }
    },
    {
      "cell_type": "code",
      "source": [
        "zscore_training10 = np.delete(zscore_training,[3,5,8,0,4,2,6,9,10,1], axis=1)\n",
        "zscore_testing10 = np.delete(zscore_testing,[3,5,8,0,4,2,6,9,10,1], axis=1)\n",
        "minmax_training10 = np.delete(minmax_training,[3,5,8,0,4,2,6,9,10,1], axis=1)\n",
        "minmax_testing10 = np.delete(minmax_testing,[3,5,8,0,4,2,6,9,10,1], axis=1)\n",
        "\n",
        "\n",
        "# Define the parameter grid for Decision Tree\n",
        "param_grid = {\n",
        "    'criterion': ['gini', 'entropy'],\n",
        "    'splitter': ['best', 'random'],\n",
        "    'max_depth': [None, 10, 20, 30, 40, 50],\n",
        "}\n",
        "\n",
        "# Create a Decision Tree model\n",
        "dt_classifier = DecisionTreeClassifier()\n",
        "\n",
        "# Create GridSearchCV for Decision Tree\n",
        "grid_search3 = GridSearchCV(estimator=dt_classifier, param_grid=param_grid, cv=5, scoring='accuracy')\n",
        "grid_search3.fit(zscore_training10, target_train)\n",
        "grid_search4 = GridSearchCV(estimator=dt_classifier, param_grid=param_grid, cv=5, scoring='accuracy')\n",
        "grid_search4.fit(minmax_training10, target_train)\n",
        "\n",
        "# Display the best parameters\n",
        "print(\"Best Parameters:\", grid_search3.best_params_)\n",
        "print(\"Best Parameters:\", grid_search4.best_params_)\n",
        "\n",
        "# Use the best parameters to create the Decision Tree model\n",
        "best_criterion_zscore = grid_search3.best_params_['criterion']\n",
        "best_splitter_zscore = grid_search3.best_params_['splitter']\n",
        "best_max_depth_zscore = grid_search3.best_params_['max_depth']\n",
        "\n",
        "best_criterion_minmax = grid_search4.best_params_['criterion']\n",
        "best_splitter_minmax = grid_search4.best_params_['splitter']\n",
        "best_max_depth_minmax = grid_search4.best_params_['max_depth']\n",
        "\n"
      ],
      "metadata": {
        "colab": {
          "base_uri": "https://localhost:8080/"
        },
        "id": "1fCP7F0xvMQv",
        "outputId": "cc730770-15b6-446b-ef8e-d47c6318b4c6"
      },
      "execution_count": null,
      "outputs": [
        {
          "output_type": "stream",
          "name": "stdout",
          "text": [
            "Best Parameters: {'criterion': 'gini', 'max_depth': 50, 'splitter': 'random'}\n",
            "Best Parameters: {'criterion': 'gini', 'max_depth': None, 'splitter': 'random'}\n"
          ]
        }
      ]
    },
    {
      "cell_type": "code",
      "source": [
        "# ZSCORE\n",
        "model_dt_zscore = DecisionTreeClassifier(criterion=best_criterion_zscore,splitter=best_splitter_zscore,max_depth=best_max_depth_zscore)\n",
        "model_dt_zscore.fit(zscore_training10, target_train)\n",
        "# Lakukan prediksi pada data uji dengan normalisasi zscore\n",
        "y_pred_zscore = model_dt_zscore.predict(zscore_testing10)\n",
        "# Hitung akurasi dengan normalisasi zscore\n",
        "accuracy_dt_zscore_one = accuracy_score(target_test, y_pred_zscore)\n",
        "\n",
        "# MINMAX\n",
        "model_dt_minmax = DecisionTreeClassifier(criterion=best_criterion_minmax,splitter=best_splitter_minmax,max_depth=best_max_depth_minmax)\n",
        "model_dt_minmax.fit(minmax_training10, target_train)\n",
        "# Lakukan prediksi pada data uji dengan normalisasi minmax\n",
        "y_pred_minmax = model_dt_minmax.predict(minmax_testing10)\n",
        "# Hitung akurasi dengan normalisasi minmax\n",
        "accuracy_dt_minmax_one = accuracy_score(target_test, y_pred_minmax)\n",
        "\n",
        "print(\"AKURASI DECISSION TREE\")\n",
        "print(\"AKURASI ZSCORE :\",accuracy_dt_zscore_one)\n",
        "print(\"AKURASI MINMAX :\",accuracy_dt_minmax_one)\n"
      ],
      "metadata": {
        "colab": {
          "base_uri": "https://localhost:8080/"
        },
        "id": "l-0h0sbQzL9M",
        "outputId": "3a966aee-6f7e-4db5-b16c-d3b177916e37"
      },
      "execution_count": null,
      "outputs": [
        {
          "output_type": "stream",
          "name": "stdout",
          "text": [
            "AKURASI DECISSION TREE\n",
            "AKURASI ZSCORE : 0.7370242214532872\n",
            "AKURASI MINMAX : 0.7439446366782007\n"
          ]
        }
      ]
    },
    {
      "cell_type": "markdown",
      "source": [
        "### HASIL"
      ],
      "metadata": {
        "id": "lo_MvxhgvNFy"
      }
    },
    {
      "cell_type": "code",
      "source": [
        "print(\"AKURASI RANDOM FOREST\")\n",
        "print(\"ALL\")\n",
        "print(\"AKURASI ZSCORE :\",accuracy_dt_zscore_all)\n",
        "print(\"AKURASI MINMAX :\",accuracy_dt_minmax_all)\n",
        "print(\"10\")\n",
        "print(\"AKURASI ZSCORE :\",accuracy_dt_zscore_ten)\n",
        "print(\"AKURASI MINMAX :\",accuracy_dt_minmax_ten)\n",
        "print(\"9\")\n",
        "print(\"AKURASI ZSCORE :\",accuracy_dt_zscore_nine)\n",
        "print(\"AKURASI MINMAX :\",accuracy_dt_minmax_nine)\n",
        "print(\"8\")\n",
        "print(\"AKURASI ZSCORE :\",accuracy_dt_zscore_eight)\n",
        "print(\"AKURASI MINMAX :\",accuracy_dt_minmax_eight)\n",
        "print(\"7\")\n",
        "print(\"AKURASI ZSCORE :\",accuracy_dt_zscore_seven)\n",
        "print(\"AKURASI MINMAX :\",accuracy_dt_minmax_seven)\n",
        "print(\"6\")\n",
        "print(\"AKURASI ZSCORE :\",accuracy_dt_zscore_six)\n",
        "print(\"AKURASI MINMAX :\",accuracy_dt_minmax_six)\n",
        "print(\"5\")\n",
        "print(\"AKURASI ZSCORE :\",accuracy_dt_zscore_five)\n",
        "print(\"AKURASI MINMAX :\",accuracy_dt_minmax_five)\n",
        "print(\"4\")\n",
        "print(\"AKURASI ZSCORE :\",accuracy_dt_zscore_four)\n",
        "print(\"AKURASI MINMAX :\",accuracy_dt_minmax_four)\n",
        "print(\"3\")\n",
        "print(\"AKURASI ZSCORE :\",accuracy_dt_zscore_three)\n",
        "print(\"AKURASI MINMAX :\",accuracy_dt_minmax_three)\n",
        "print(\"2\")\n",
        "print(\"AKURASI ZSCORE :\",accuracy_dt_zscore_two)\n",
        "print(\"AKURASI MINMAX :\",accuracy_dt_minmax_two)\n",
        "print(\"1\")\n",
        "print(\"AKURASI ZSCORE :\",accuracy_dt_zscore_one)\n",
        "print(\"AKURASI MINMAX :\",accuracy_dt_minmax_one)"
      ],
      "metadata": {
        "colab": {
          "base_uri": "https://localhost:8080/"
        },
        "id": "5dKaRTL0vOXu",
        "outputId": "10685e39-3f59-407a-de1d-d117f99e06f8"
      },
      "execution_count": null,
      "outputs": [
        {
          "output_type": "stream",
          "name": "stdout",
          "text": [
            "AKURASI RANDOM FOREST\n",
            "ALL\n",
            "AKURASI ZSCORE : 0.8650519031141869\n",
            "AKURASI MINMAX : 0.8460207612456747\n",
            "10\n",
            "AKURASI ZSCORE : 0.856401384083045\n",
            "AKURASI MINMAX : 0.8373702422145328\n",
            "9\n",
            "AKURASI ZSCORE : 0.8373702422145328\n",
            "AKURASI MINMAX : 0.8650519031141869\n",
            "8\n",
            "AKURASI ZSCORE : 0.8304498269896193\n",
            "AKURASI MINMAX : 0.8269896193771626\n",
            "7\n",
            "AKURASI ZSCORE : 0.8494809688581315\n",
            "AKURASI MINMAX : 0.8442906574394463\n",
            "6\n",
            "AKURASI ZSCORE : 0.8494809688581315\n",
            "AKURASI MINMAX : 0.828719723183391\n",
            "5\n",
            "AKURASI ZSCORE : 0.8391003460207612\n",
            "AKURASI MINMAX : 0.8269896193771626\n",
            "4\n",
            "AKURASI ZSCORE : 0.856401384083045\n",
            "AKURASI MINMAX : 0.8529411764705882\n",
            "3\n",
            "AKURASI ZSCORE : 0.8096885813148789\n",
            "AKURASI MINMAX : 0.8269896193771626\n",
            "2\n",
            "AKURASI ZSCORE : 0.754325259515571\n",
            "AKURASI MINMAX : 0.754325259515571\n",
            "1\n",
            "AKURASI ZSCORE : 0.7370242214532872\n",
            "AKURASI MINMAX : 0.7439446366782007\n"
          ]
        }
      ]
    }
  ]
}